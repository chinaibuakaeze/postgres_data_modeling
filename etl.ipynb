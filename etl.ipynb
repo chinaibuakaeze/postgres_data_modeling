{
 "cells": [
  {
   "cell_type": "markdown",
   "id": "8df5d4ea",
   "metadata": {},
   "source": [
    "# ETL Pipeline"
   ]
  },
  {
   "cell_type": "markdown",
   "id": "523f030c",
   "metadata": {},
   "source": [
    "This notebook creates an ETL Pipeline that transfers data from files in two local directories `song_data` and `log_data` into tables in Postgres using python and SQL. "
   ]
  },
  {
   "cell_type": "markdown",
   "id": "ec0ae0f6",
   "metadata": {},
   "source": [
    "The following files and libraries are imported: `psycopg2` Python sql library, `create_tables.py` that creates the different tables for the sparkify database and `etl.py` that processes the files and inserts into the databases."
   ]
  },
  {
   "cell_type": "code",
   "execution_count": 1,
   "id": "19eb2957",
   "metadata": {},
   "outputs": [],
   "source": [
    "import psycopg2\n",
    "from create_tables import *\n",
    "from etl import *"
   ]
  },
  {
   "cell_type": "code",
   "execution_count": 2,
   "id": "ddecd054",
   "metadata": {},
   "outputs": [],
   "source": [
    "%load_ext sql\n",
    "%sql postgresql:///sparkify_db"
   ]
  },
  {
   "cell_type": "markdown",
   "id": "fa618293",
   "metadata": {},
   "source": [
    "### Connect to the sparkify database"
   ]
  },
  {
   "cell_type": "code",
   "execution_count": 3,
   "id": "df383491",
   "metadata": {},
   "outputs": [],
   "source": [
    "try:\n",
    "    conn = psycopg2.connect(\"dbname=sparkify_db user=china password=test\")\n",
    "except psycopg2.Error as e:\n",
    "    print(e)\n",
    "\n",
    "cur = conn.cursor()\n",
    "conn.set_session(autocommit=True)"
   ]
  },
  {
   "cell_type": "markdown",
   "id": "4963ff26",
   "metadata": {},
   "source": [
    "### Create Tables "
   ]
  },
  {
   "cell_type": "markdown",
   "id": "3792e54c",
   "metadata": {},
   "source": [
    "Check if the tables already exist in the sparkify database, and drop them if they exist."
   ]
  },
  {
   "cell_type": "code",
   "execution_count": 4,
   "id": "a2235889",
   "metadata": {},
   "outputs": [],
   "source": [
    "drop_tables(cur)"
   ]
  },
  {
   "cell_type": "markdown",
   "id": "ab5ca61f",
   "metadata": {},
   "source": [
    "The function below creates the songs table. This table will store the songs in the sparkify music database. The table has the following columns: *song_id*, *title*, *artist_id*, *year*, *duration*."
   ]
  },
  {
   "cell_type": "code",
   "execution_count": 5,
   "id": "2ccfffed",
   "metadata": {},
   "outputs": [],
   "source": [
    "create_songs_table(cur)"
   ]
  },
  {
   "cell_type": "code",
   "execution_count": 6,
   "id": "ea57ece2",
   "metadata": {},
   "outputs": [
    {
     "name": "stdout",
     "output_type": "stream",
     "text": [
      " * postgresql:///sparkify_db\n",
      "5 rows affected.\n"
     ]
    },
    {
     "data": {
      "text/html": [
       "<table>\n",
       "    <tr>\n",
       "        <th>column_name</th>\n",
       "        <th>data_type</th>\n",
       "    </tr>\n",
       "    <tr>\n",
       "        <td>year</td>\n",
       "        <td>integer</td>\n",
       "    </tr>\n",
       "    <tr>\n",
       "        <td>duration</td>\n",
       "        <td>double precision</td>\n",
       "    </tr>\n",
       "    <tr>\n",
       "        <td>song_id</td>\n",
       "        <td>character varying</td>\n",
       "    </tr>\n",
       "    <tr>\n",
       "        <td>title</td>\n",
       "        <td>character varying</td>\n",
       "    </tr>\n",
       "    <tr>\n",
       "        <td>artist_id</td>\n",
       "        <td>character varying</td>\n",
       "    </tr>\n",
       "</table>"
      ],
      "text/plain": [
       "[('year', 'integer'),\n",
       " ('duration', 'double precision'),\n",
       " ('song_id', 'character varying'),\n",
       " ('title', 'character varying'),\n",
       " ('artist_id', 'character varying')]"
      ]
     },
     "execution_count": 6,
     "metadata": {},
     "output_type": "execute_result"
    }
   ],
   "source": [
    "%%sql\n",
    "SELECT column_name, data_type FROM information_schema.columns WHERE table_name = 'songs';"
   ]
  },
  {
   "cell_type": "markdown",
   "id": "dcbf9346",
   "metadata": {},
   "source": [
    "Next, create users table with the following columns *user_id*, *first_name*, *last_name*, *gender*, *level*. Then display the table colummns and data type for the users table to verify it's been created properly. "
   ]
  },
  {
   "cell_type": "code",
   "execution_count": 7,
   "id": "f9ccb63a",
   "metadata": {},
   "outputs": [],
   "source": [
    "create_users_table(cur)\n"
   ]
  },
  {
   "cell_type": "code",
   "execution_count": 8,
   "id": "1b8f72fc",
   "metadata": {},
   "outputs": [
    {
     "name": "stdout",
     "output_type": "stream",
     "text": [
      " * postgresql:///sparkify_db\n",
      "5 rows affected.\n"
     ]
    },
    {
     "data": {
      "text/html": [
       "<table>\n",
       "    <tr>\n",
       "        <th>column_name</th>\n",
       "        <th>data_type</th>\n",
       "    </tr>\n",
       "    <tr>\n",
       "        <td>year</td>\n",
       "        <td>integer</td>\n",
       "    </tr>\n",
       "    <tr>\n",
       "        <td>duration</td>\n",
       "        <td>double precision</td>\n",
       "    </tr>\n",
       "    <tr>\n",
       "        <td>song_id</td>\n",
       "        <td>character varying</td>\n",
       "    </tr>\n",
       "    <tr>\n",
       "        <td>title</td>\n",
       "        <td>character varying</td>\n",
       "    </tr>\n",
       "    <tr>\n",
       "        <td>artist_id</td>\n",
       "        <td>character varying</td>\n",
       "    </tr>\n",
       "</table>"
      ],
      "text/plain": [
       "[('year', 'integer'),\n",
       " ('duration', 'double precision'),\n",
       " ('song_id', 'character varying'),\n",
       " ('title', 'character varying'),\n",
       " ('artist_id', 'character varying')]"
      ]
     },
     "execution_count": 8,
     "metadata": {},
     "output_type": "execute_result"
    }
   ],
   "source": [
    "%%sql\n",
    "SELECT column_name, data_type FROM information_schema.columns WHERE table_name = 'songs';"
   ]
  },
  {
   "cell_type": "markdown",
   "id": "5cec7eb5",
   "metadata": {},
   "source": [
    "Follow the same process for creating and displaying the remaining tables artists, time, and songplays. "
   ]
  },
  {
   "cell_type": "code",
   "execution_count": 9,
   "id": "68b8dff8",
   "metadata": {},
   "outputs": [],
   "source": [
    "create_artists_table(cur)"
   ]
  },
  {
   "cell_type": "code",
   "execution_count": 10,
   "id": "23b01498",
   "metadata": {},
   "outputs": [
    {
     "name": "stdout",
     "output_type": "stream",
     "text": [
      " * postgresql:///sparkify_db\n",
      "5 rows affected.\n"
     ]
    },
    {
     "data": {
      "text/html": [
       "<table>\n",
       "    <tr>\n",
       "        <th>column_name</th>\n",
       "        <th>data_type</th>\n",
       "    </tr>\n",
       "    <tr>\n",
       "        <td>latitude</td>\n",
       "        <td>double precision</td>\n",
       "    </tr>\n",
       "    <tr>\n",
       "        <td>longitude</td>\n",
       "        <td>double precision</td>\n",
       "    </tr>\n",
       "    <tr>\n",
       "        <td>artist_id</td>\n",
       "        <td>character varying</td>\n",
       "    </tr>\n",
       "    <tr>\n",
       "        <td>name</td>\n",
       "        <td>character varying</td>\n",
       "    </tr>\n",
       "    <tr>\n",
       "        <td>location</td>\n",
       "        <td>character varying</td>\n",
       "    </tr>\n",
       "</table>"
      ],
      "text/plain": [
       "[('latitude', 'double precision'),\n",
       " ('longitude', 'double precision'),\n",
       " ('artist_id', 'character varying'),\n",
       " ('name', 'character varying'),\n",
       " ('location', 'character varying')]"
      ]
     },
     "execution_count": 10,
     "metadata": {},
     "output_type": "execute_result"
    }
   ],
   "source": [
    "%%sql\n",
    "SELECT column_name, data_type FROM information_schema.columns WHERE table_name = 'artists';"
   ]
  },
  {
   "cell_type": "code",
   "execution_count": 11,
   "id": "e5e5a96b",
   "metadata": {},
   "outputs": [],
   "source": [
    "create_time_table(cur)"
   ]
  },
  {
   "cell_type": "code",
   "execution_count": 12,
   "id": "cf8f0cf4",
   "metadata": {},
   "outputs": [
    {
     "name": "stdout",
     "output_type": "stream",
     "text": [
      " * postgresql:///sparkify_db\n",
      "7 rows affected.\n"
     ]
    },
    {
     "data": {
      "text/html": [
       "<table>\n",
       "    <tr>\n",
       "        <th>column_name</th>\n",
       "        <th>data_type</th>\n",
       "    </tr>\n",
       "    <tr>\n",
       "        <td>week</td>\n",
       "        <td>integer</td>\n",
       "    </tr>\n",
       "    <tr>\n",
       "        <td>hour</td>\n",
       "        <td>integer</td>\n",
       "    </tr>\n",
       "    <tr>\n",
       "        <td>day</td>\n",
       "        <td>integer</td>\n",
       "    </tr>\n",
       "    <tr>\n",
       "        <td>month</td>\n",
       "        <td>integer</td>\n",
       "    </tr>\n",
       "    <tr>\n",
       "        <td>year</td>\n",
       "        <td>integer</td>\n",
       "    </tr>\n",
       "    <tr>\n",
       "        <td>start_time</td>\n",
       "        <td>character varying</td>\n",
       "    </tr>\n",
       "    <tr>\n",
       "        <td>weekday</td>\n",
       "        <td>character varying</td>\n",
       "    </tr>\n",
       "</table>"
      ],
      "text/plain": [
       "[('week', 'integer'),\n",
       " ('hour', 'integer'),\n",
       " ('day', 'integer'),\n",
       " ('month', 'integer'),\n",
       " ('year', 'integer'),\n",
       " ('start_time', 'character varying'),\n",
       " ('weekday', 'character varying')]"
      ]
     },
     "execution_count": 12,
     "metadata": {},
     "output_type": "execute_result"
    }
   ],
   "source": [
    "%%sql\n",
    "SELECT column_name, data_type FROM information_schema.columns WHERE table_name = 'time';"
   ]
  },
  {
   "cell_type": "code",
   "execution_count": 13,
   "id": "badd83a8",
   "metadata": {},
   "outputs": [],
   "source": [
    "create_songplays(cur)"
   ]
  },
  {
   "cell_type": "code",
   "execution_count": 14,
   "id": "2c9d948b",
   "metadata": {},
   "outputs": [
    {
     "name": "stdout",
     "output_type": "stream",
     "text": [
      " * postgresql:///sparkify_db\n",
      "9 rows affected.\n"
     ]
    },
    {
     "data": {
      "text/html": [
       "<table>\n",
       "    <tr>\n",
       "        <th>column_name</th>\n",
       "        <th>data_type</th>\n",
       "    </tr>\n",
       "    <tr>\n",
       "        <td>start_time</td>\n",
       "        <td>time without time zone</td>\n",
       "    </tr>\n",
       "    <tr>\n",
       "        <td>session_id</td>\n",
       "        <td>integer</td>\n",
       "    </tr>\n",
       "    <tr>\n",
       "        <td>user_id</td>\n",
       "        <td>integer</td>\n",
       "    </tr>\n",
       "    <tr>\n",
       "        <td>songplay_id</td>\n",
       "        <td>integer</td>\n",
       "    </tr>\n",
       "    <tr>\n",
       "        <td>location</td>\n",
       "        <td>character varying</td>\n",
       "    </tr>\n",
       "    <tr>\n",
       "        <td>user_agent</td>\n",
       "        <td>character varying</td>\n",
       "    </tr>\n",
       "    <tr>\n",
       "        <td>level</td>\n",
       "        <td>text</td>\n",
       "    </tr>\n",
       "    <tr>\n",
       "        <td>song_id</td>\n",
       "        <td>character varying</td>\n",
       "    </tr>\n",
       "    <tr>\n",
       "        <td>artist_id</td>\n",
       "        <td>character varying</td>\n",
       "    </tr>\n",
       "</table>"
      ],
      "text/plain": [
       "[('start_time', 'time without time zone'),\n",
       " ('session_id', 'integer'),\n",
       " ('user_id', 'integer'),\n",
       " ('songplay_id', 'integer'),\n",
       " ('location', 'character varying'),\n",
       " ('user_agent', 'character varying'),\n",
       " ('level', 'text'),\n",
       " ('song_id', 'character varying'),\n",
       " ('artist_id', 'character varying')]"
      ]
     },
     "execution_count": 14,
     "metadata": {},
     "output_type": "execute_result"
    }
   ],
   "source": [
    "%%sql\n",
    "SELECT column_name, data_type FROM information_schema.columns WHERE table_name = 'songplays';"
   ]
  },
  {
   "cell_type": "markdown",
   "id": "1895e78e",
   "metadata": {},
   "source": [
    "### Read and process files in song_data directory"
   ]
  },
  {
   "cell_type": "markdown",
   "id": "22a6dba3",
   "metadata": {},
   "source": [
    "Walk through the `song_data` directory and extract all the JSON files in the directory. Open and read all the JSON files, process the data and load the processed data into songs and artists tables."
   ]
  },
  {
   "cell_type": "code",
   "execution_count": 15,
   "id": "5702d541",
   "metadata": {},
   "outputs": [],
   "source": [
    "#Read song_data_files\n",
    "song_data_files = get_listof_files(\"song_data\")"
   ]
  },
  {
   "cell_type": "code",
   "execution_count": 16,
   "id": "3ce9e896",
   "metadata": {},
   "outputs": [],
   "source": [
    "#Insert into songs and artists tables\n",
    "read_song_files(song_data_files, cur)"
   ]
  },
  {
   "cell_type": "code",
   "execution_count": 17,
   "id": "48df3ed5",
   "metadata": {},
   "outputs": [
    {
     "name": "stdout",
     "output_type": "stream",
     "text": [
      " * postgresql:///sparkify_db\n",
      "5 rows affected.\n"
     ]
    },
    {
     "data": {
      "text/html": [
       "<table>\n",
       "    <tr>\n",
       "        <th>song_id</th>\n",
       "        <th>title</th>\n",
       "        <th>artist_id</th>\n",
       "        <th>year</th>\n",
       "        <th>duration</th>\n",
       "    </tr>\n",
       "    <tr>\n",
       "        <td>SONHOTT12A8C13493C</td>\n",
       "        <td>Something Girls</td>\n",
       "        <td>AR7G5I41187FB4CE6C</td>\n",
       "        <td>1982</td>\n",
       "        <td>233.40363</td>\n",
       "    </tr>\n",
       "    <tr>\n",
       "        <td>SOIAZJW12AB01853F1</td>\n",
       "        <td>Pink World</td>\n",
       "        <td>AR8ZCNI1187B9A069B</td>\n",
       "        <td>1984</td>\n",
       "        <td>269.81832</td>\n",
       "    </tr>\n",
       "    <tr>\n",
       "        <td>SOFSOCN12A8C143F5D</td>\n",
       "        <td>Face the Ashes</td>\n",
       "        <td>ARXR32B1187FB57099</td>\n",
       "        <td>2007</td>\n",
       "        <td>209.60608</td>\n",
       "    </tr>\n",
       "    <tr>\n",
       "        <td>SOHKNRJ12A6701D1F8</td>\n",
       "        <td>Drop of Rain</td>\n",
       "        <td>AR10USD1187B99F3F1</td>\n",
       "        <td>0</td>\n",
       "        <td>189.57016</td>\n",
       "    </tr>\n",
       "    <tr>\n",
       "        <td>SOQHXMF12AB0182363</td>\n",
       "        <td>Young Boy Blues</td>\n",
       "        <td>ARGSJW91187B9B1D6B</td>\n",
       "        <td>0</td>\n",
       "        <td>218.77506</td>\n",
       "    </tr>\n",
       "</table>"
      ],
      "text/plain": [
       "[('SONHOTT12A8C13493C', 'Something Girls', 'AR7G5I41187FB4CE6C', 1982, 233.40363),\n",
       " ('SOIAZJW12AB01853F1', 'Pink World', 'AR8ZCNI1187B9A069B', 1984, 269.81832),\n",
       " ('SOFSOCN12A8C143F5D', 'Face the Ashes', 'ARXR32B1187FB57099', 2007, 209.60608),\n",
       " ('SOHKNRJ12A6701D1F8', 'Drop of Rain', 'AR10USD1187B99F3F1', 0, 189.57016),\n",
       " ('SOQHXMF12AB0182363', 'Young Boy Blues', 'ARGSJW91187B9B1D6B', 0, 218.77506)]"
      ]
     },
     "execution_count": 17,
     "metadata": {},
     "output_type": "execute_result"
    }
   ],
   "source": [
    "%%sql\n",
    "SELECT * FROM songs LIMIT 5;"
   ]
  },
  {
   "cell_type": "code",
   "execution_count": 18,
   "id": "7481befd",
   "metadata": {},
   "outputs": [
    {
     "name": "stdout",
     "output_type": "stream",
     "text": [
      " * postgresql:///sparkify_db\n",
      "5 rows affected.\n"
     ]
    },
    {
     "data": {
      "text/html": [
       "<table>\n",
       "    <tr>\n",
       "        <th>artist_id</th>\n",
       "        <th>name</th>\n",
       "        <th>location</th>\n",
       "        <th>latitude</th>\n",
       "        <th>longitude</th>\n",
       "    </tr>\n",
       "    <tr>\n",
       "        <td>AR7G5I41187FB4CE6C</td>\n",
       "        <td>Adam Ant</td>\n",
       "        <td>London, England</td>\n",
       "        <td>0.0</td>\n",
       "        <td>0.0</td>\n",
       "    </tr>\n",
       "    <tr>\n",
       "        <td>AR8ZCNI1187B9A069B</td>\n",
       "        <td>Planet P Project</td>\n",
       "        <td></td>\n",
       "        <td>0.0</td>\n",
       "        <td>0.0</td>\n",
       "    </tr>\n",
       "    <tr>\n",
       "        <td>ARXR32B1187FB57099</td>\n",
       "        <td>Gob</td>\n",
       "        <td></td>\n",
       "        <td>0.0</td>\n",
       "        <td>0.0</td>\n",
       "    </tr>\n",
       "    <tr>\n",
       "        <td>AR10USD1187B99F3F1</td>\n",
       "        <td>Tweeterfriendly Music</td>\n",
       "        <td>Burlington, Ontario, Canada</td>\n",
       "        <td>0.0</td>\n",
       "        <td>0.0</td>\n",
       "    </tr>\n",
       "    <tr>\n",
       "        <td>ARGSJW91187B9B1D6B</td>\n",
       "        <td>JennyAnyKind</td>\n",
       "        <td>North Carolina</td>\n",
       "        <td>35.21962</td>\n",
       "        <td>-80.01955</td>\n",
       "    </tr>\n",
       "</table>"
      ],
      "text/plain": [
       "[('AR7G5I41187FB4CE6C', 'Adam Ant', 'London, England', 0.0, 0.0),\n",
       " ('AR8ZCNI1187B9A069B', 'Planet P Project', '', 0.0, 0.0),\n",
       " ('ARXR32B1187FB57099', 'Gob', '', 0.0, 0.0),\n",
       " ('AR10USD1187B99F3F1', 'Tweeterfriendly Music', 'Burlington, Ontario, Canada', 0.0, 0.0),\n",
       " ('ARGSJW91187B9B1D6B', 'JennyAnyKind', 'North Carolina', 35.21962, -80.01955)]"
      ]
     },
     "execution_count": 18,
     "metadata": {},
     "output_type": "execute_result"
    }
   ],
   "source": [
    "%%sql\n",
    "SELECT * FROM artists LIMIT 5;"
   ]
  },
  {
   "cell_type": "markdown",
   "id": "d1d49bc3",
   "metadata": {},
   "source": [
    "The first 5 rows from both the songs and artists table are displayed above."
   ]
  },
  {
   "cell_type": "markdown",
   "id": "e27bfeb7",
   "metadata": {},
   "source": [
    "### Read and process files in log_data directory"
   ]
  },
  {
   "cell_type": "markdown",
   "id": "96a1b29a",
   "metadata": {},
   "source": [
    "Walk through the `log_data` directory and extract all the JSON files in the directory. Open and read all the JSON files, process the data and load the processed data into time, users and songplays tables. Use pandas to transform the timestamp data into *hour*, *day*, *week*, *month*, *year* and *weekday* before loading the data into the time table. Also join the songs and artists tables created earlier to get the *song_id* and *artist_id* to load into the respective columns for the songplays table. "
   ]
  },
  {
   "cell_type": "code",
   "execution_count": 19,
   "id": "257b535b",
   "metadata": {},
   "outputs": [],
   "source": [
    "#Read log data files\n",
    "log_data_files = get_listof_files(\"log_data\")"
   ]
  },
  {
   "cell_type": "code",
   "execution_count": 20,
   "id": "07a28b4e",
   "metadata": {},
   "outputs": [],
   "source": [
    "#Insert intoo time, songplays and users tables\n",
    "read_log_files(log_data_files, cur)"
   ]
  },
  {
   "cell_type": "code",
   "execution_count": 21,
   "id": "a16569ef",
   "metadata": {},
   "outputs": [
    {
     "name": "stdout",
     "output_type": "stream",
     "text": [
      " * postgresql:///sparkify_db\n",
      "5 rows affected.\n"
     ]
    },
    {
     "data": {
      "text/html": [
       "<table>\n",
       "    <tr>\n",
       "        <th>user_id</th>\n",
       "        <th>first_name</th>\n",
       "        <th>last_name</th>\n",
       "        <th>gender</th>\n",
       "        <th>level</th>\n",
       "    </tr>\n",
       "    <tr>\n",
       "        <td>69</td>\n",
       "        <td>Anabelle</td>\n",
       "        <td>Simpson</td>\n",
       "        <td>F</td>\n",
       "        <td>free</td>\n",
       "    </tr>\n",
       "    <tr>\n",
       "        <td>66</td>\n",
       "        <td>Kevin</td>\n",
       "        <td>Arellano</td>\n",
       "        <td>M</td>\n",
       "        <td>free</td>\n",
       "    </tr>\n",
       "    <tr>\n",
       "        <td>40</td>\n",
       "        <td>Tucker</td>\n",
       "        <td>Garrison</td>\n",
       "        <td>M</td>\n",
       "        <td>free</td>\n",
       "    </tr>\n",
       "    <tr>\n",
       "        <td>43</td>\n",
       "        <td>Jahiem</td>\n",
       "        <td>Miles</td>\n",
       "        <td>M</td>\n",
       "        <td>free</td>\n",
       "    </tr>\n",
       "    <tr>\n",
       "        <td>8</td>\n",
       "        <td>Kaylee</td>\n",
       "        <td>Summers</td>\n",
       "        <td>F</td>\n",
       "        <td>free</td>\n",
       "    </tr>\n",
       "</table>"
      ],
      "text/plain": [
       "[(69, 'Anabelle', 'Simpson', 'F', 'free'),\n",
       " (66, 'Kevin', 'Arellano', 'M', 'free'),\n",
       " (40, 'Tucker', 'Garrison', 'M', 'free'),\n",
       " (43, 'Jahiem', 'Miles', 'M', 'free'),\n",
       " (8, 'Kaylee', 'Summers', 'F', 'free')]"
      ]
     },
     "execution_count": 21,
     "metadata": {},
     "output_type": "execute_result"
    }
   ],
   "source": [
    "%%sql\n",
    "SELECT * FROM users LIMIT 5;"
   ]
  },
  {
   "cell_type": "code",
   "execution_count": 22,
   "id": "e54e3648",
   "metadata": {},
   "outputs": [
    {
     "name": "stdout",
     "output_type": "stream",
     "text": [
      " * postgresql:///sparkify_db\n",
      "5 rows affected.\n"
     ]
    },
    {
     "data": {
      "text/html": [
       "<table>\n",
       "    <tr>\n",
       "        <th>songplay_id</th>\n",
       "        <th>start_time</th>\n",
       "        <th>user_id</th>\n",
       "        <th>level</th>\n",
       "        <th>song_id</th>\n",
       "        <th>artist_id</th>\n",
       "        <th>session_id</th>\n",
       "        <th>location</th>\n",
       "        <th>user_agent</th>\n",
       "    </tr>\n",
       "    <tr>\n",
       "        <td>1</td>\n",
       "        <td>02:33:56.796000</td>\n",
       "        <td>69</td>\n",
       "        <td>free</td>\n",
       "        <td>None</td>\n",
       "        <td>None</td>\n",
       "        <td>455</td>\n",
       "        <td>Philadelphia-Camden-Wilmington, PA-NJ-DE-MD</td>\n",
       "        <td>&quot;Mozilla/5.0 (Macintosh; Intel Mac OS X 10_9_4) AppleWebKit/537.36 (KHTML, like Gecko) Chrome/36.0.1985.125 Safari/537.36&quot;</td>\n",
       "    </tr>\n",
       "    <tr>\n",
       "        <td>2</td>\n",
       "        <td>00:11:00.796000</td>\n",
       "        <td>66</td>\n",
       "        <td>free</td>\n",
       "        <td>None</td>\n",
       "        <td>None</td>\n",
       "        <td>815</td>\n",
       "        <td>Harrisburg-Carlisle, PA</td>\n",
       "        <td>&quot;Mozilla/5.0 (Macintosh; Intel Mac OS X 10_9_4) AppleWebKit/537.36 (KHTML, like Gecko) Chrome/36.0.1985.125 Safari/537.36&quot;</td>\n",
       "    </tr>\n",
       "    <tr>\n",
       "        <td>3</td>\n",
       "        <td>03:22:04.796000</td>\n",
       "        <td>99</td>\n",
       "        <td>free</td>\n",
       "        <td>None</td>\n",
       "        <td>None</td>\n",
       "        <td>573</td>\n",
       "        <td>Salt Lake City, UT</td>\n",
       "        <td>Mozilla/5.0 (Macintosh; Intel Mac OS X 10.9; rv:31.0) Gecko/20100101 Firefox/31.0</td>\n",
       "    </tr>\n",
       "    <tr>\n",
       "        <td>4</td>\n",
       "        <td>02:54:52.796000</td>\n",
       "        <td>43</td>\n",
       "        <td>free</td>\n",
       "        <td>None</td>\n",
       "        <td>None</td>\n",
       "        <td>42</td>\n",
       "        <td>San Antonio-New Braunfels, TX</td>\n",
       "        <td>&quot;Mozilla/5.0 (Windows NT 5.1) AppleWebKit/537.36 (KHTML, like Gecko) Chrome/36.0.1985.143 Safari/537.36&quot;</td>\n",
       "    </tr>\n",
       "    <tr>\n",
       "        <td>5</td>\n",
       "        <td>21:05:52.796000</td>\n",
       "        <td>8</td>\n",
       "        <td>free</td>\n",
       "        <td>None</td>\n",
       "        <td>None</td>\n",
       "        <td>139</td>\n",
       "        <td>Phoenix-Mesa-Scottsdale, AZ</td>\n",
       "        <td>&quot;Mozilla/5.0 (Windows NT 6.1; WOW64) AppleWebKit/537.36 (KHTML, like Gecko) Chrome/35.0.1916.153 Safari/537.36&quot;</td>\n",
       "    </tr>\n",
       "</table>"
      ],
      "text/plain": [
       "[(1, datetime.time(2, 33, 56, 796000), 69, 'free', 'None', 'None', 455, 'Philadelphia-Camden-Wilmington, PA-NJ-DE-MD', '\"Mozilla/5.0 (Macintosh; Intel Mac OS X 10_9_4) AppleWebKit/537.36 (KHTML, like Gecko) Chrome/36.0.1985.125 Safari/537.36\"'),\n",
       " (2, datetime.time(0, 11, 0, 796000), 66, 'free', 'None', 'None', 815, 'Harrisburg-Carlisle, PA', '\"Mozilla/5.0 (Macintosh; Intel Mac OS X 10_9_4) AppleWebKit/537.36 (KHTML, like Gecko) Chrome/36.0.1985.125 Safari/537.36\"'),\n",
       " (3, datetime.time(3, 22, 4, 796000), 99, 'free', 'None', 'None', 573, 'Salt Lake City, UT', 'Mozilla/5.0 (Macintosh; Intel Mac OS X 10.9; rv:31.0) Gecko/20100101 Firefox/31.0'),\n",
       " (4, datetime.time(2, 54, 52, 796000), 43, 'free', 'None', 'None', 42, 'San Antonio-New Braunfels, TX', '\"Mozilla/5.0 (Windows NT 5.1) AppleWebKit/537.36 (KHTML, like Gecko) Chrome/36.0.1985.143 Safari/537.36\"'),\n",
       " (5, datetime.time(21, 5, 52, 796000), 8, 'free', 'None', 'None', 139, 'Phoenix-Mesa-Scottsdale, AZ', '\"Mozilla/5.0 (Windows NT 6.1; WOW64) AppleWebKit/537.36 (KHTML, like Gecko) Chrome/35.0.1916.153 Safari/537.36\"')]"
      ]
     },
     "execution_count": 22,
     "metadata": {},
     "output_type": "execute_result"
    }
   ],
   "source": [
    "%%sql\n",
    "SELECT * FROM songplays LIMIT 5;"
   ]
  },
  {
   "cell_type": "code",
   "execution_count": 23,
   "id": "e0255ea8",
   "metadata": {
    "scrolled": true
   },
   "outputs": [
    {
     "name": "stdout",
     "output_type": "stream",
     "text": [
      " * postgresql:///sparkify_db\n",
      "5 rows affected.\n"
     ]
    },
    {
     "data": {
      "text/html": [
       "<table>\n",
       "    <tr>\n",
       "        <th>start_time</th>\n",
       "        <th>hour</th>\n",
       "        <th>day</th>\n",
       "        <th>week</th>\n",
       "        <th>month</th>\n",
       "        <th>year</th>\n",
       "        <th>weekday</th>\n",
       "    </tr>\n",
       "    <tr>\n",
       "        <td>2018-11-11 02:33:56.796000</td>\n",
       "        <td>2</td>\n",
       "        <td>11</td>\n",
       "        <td>45</td>\n",
       "        <td>11</td>\n",
       "        <td>2018</td>\n",
       "        <td>Sunday</td>\n",
       "    </tr>\n",
       "    <tr>\n",
       "        <td>2018-11-23 00:11:00.796000</td>\n",
       "        <td>0</td>\n",
       "        <td>23</td>\n",
       "        <td>47</td>\n",
       "        <td>11</td>\n",
       "        <td>2018</td>\n",
       "        <td>Friday</td>\n",
       "    </tr>\n",
       "    <tr>\n",
       "        <td>2018-11-18 03:22:04.796000</td>\n",
       "        <td>3</td>\n",
       "        <td>18</td>\n",
       "        <td>46</td>\n",
       "        <td>11</td>\n",
       "        <td>2018</td>\n",
       "        <td>Sunday</td>\n",
       "    </tr>\n",
       "    <tr>\n",
       "        <td>2018-11-04 02:54:52.796000</td>\n",
       "        <td>2</td>\n",
       "        <td>4</td>\n",
       "        <td>44</td>\n",
       "        <td>11</td>\n",
       "        <td>2018</td>\n",
       "        <td>Sunday</td>\n",
       "    </tr>\n",
       "    <tr>\n",
       "        <td>2018-11-01 21:05:52.796000</td>\n",
       "        <td>21</td>\n",
       "        <td>1</td>\n",
       "        <td>44</td>\n",
       "        <td>11</td>\n",
       "        <td>2018</td>\n",
       "        <td>Thursday</td>\n",
       "    </tr>\n",
       "</table>"
      ],
      "text/plain": [
       "[('2018-11-11 02:33:56.796000', 2, 11, 45, 11, 2018, 'Sunday'),\n",
       " ('2018-11-23 00:11:00.796000', 0, 23, 47, 11, 2018, 'Friday'),\n",
       " ('2018-11-18 03:22:04.796000', 3, 18, 46, 11, 2018, 'Sunday'),\n",
       " ('2018-11-04 02:54:52.796000', 2, 4, 44, 11, 2018, 'Sunday'),\n",
       " ('2018-11-01 21:05:52.796000', 21, 1, 44, 11, 2018, 'Thursday')]"
      ]
     },
     "execution_count": 23,
     "metadata": {},
     "output_type": "execute_result"
    }
   ],
   "source": [
    "%%sql\n",
    "SELECT * FROM time LIMIT 5;"
   ]
  },
  {
   "cell_type": "markdown",
   "id": "65f1cc68",
   "metadata": {},
   "source": [
    "The first 5 rows from users, songplays, and time are dispalyed above."
   ]
  },
  {
   "cell_type": "markdown",
   "id": "1a73021f",
   "metadata": {},
   "source": [
    "### Close connection to sparkify database"
   ]
  },
  {
   "cell_type": "code",
   "execution_count": 24,
   "id": "484eb701",
   "metadata": {},
   "outputs": [],
   "source": [
    "#Close database connection\n",
    "cur.close()\n",
    "conn.close()"
   ]
  }
 ],
 "metadata": {
  "kernelspec": {
   "display_name": "Python 3 (ipykernel)",
   "language": "python",
   "name": "python3"
  },
  "language_info": {
   "codemirror_mode": {
    "name": "ipython",
    "version": 3
   },
   "file_extension": ".py",
   "mimetype": "text/x-python",
   "name": "python",
   "nbconvert_exporter": "python",
   "pygments_lexer": "ipython3",
   "version": "3.7.1"
  }
 },
 "nbformat": 4,
 "nbformat_minor": 5
}
